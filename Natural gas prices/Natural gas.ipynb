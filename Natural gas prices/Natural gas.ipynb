{
 "cells": [
  {
   "cell_type": "code",
   "execution_count": 1,
   "id": "d9c7762b-fc59-4e81-b2fe-c24a8b286594",
   "metadata": {},
   "outputs": [
    {
     "name": "stdout",
     "output_type": "stream",
     "text": [
      "Requirement already satisfied: requests in c:\\users\\hp\\miniconda3\\envs\\web-scrape\\lib\\site-packages (2.32.3)\n",
      "Requirement already satisfied: charset-normalizer<4,>=2 in c:\\users\\hp\\miniconda3\\envs\\web-scrape\\lib\\site-packages (from requests) (3.3.2)\n",
      "Requirement already satisfied: idna<4,>=2.5 in c:\\users\\hp\\miniconda3\\envs\\web-scrape\\lib\\site-packages (from requests) (3.7)\n",
      "Requirement already satisfied: urllib3<3,>=1.21.1 in c:\\users\\hp\\miniconda3\\envs\\web-scrape\\lib\\site-packages (from requests) (2.3.0)\n",
      "Requirement already satisfied: certifi>=2017.4.17 in c:\\users\\hp\\miniconda3\\envs\\web-scrape\\lib\\site-packages (from requests) (2024.12.14)\n",
      "Requirement already satisfied: beautifulsoup4 in c:\\users\\hp\\miniconda3\\envs\\web-scrape\\lib\\site-packages (4.12.3)\n",
      "Requirement already satisfied: soupsieve>1.2 in c:\\users\\hp\\miniconda3\\envs\\web-scrape\\lib\\site-packages (from beautifulsoup4) (2.5)\n",
      "Requirement already satisfied: pandas in c:\\users\\hp\\miniconda3\\envs\\web-scrape\\lib\\site-packages (2.2.3)\n",
      "Requirement already satisfied: numpy>=1.22.4 in c:\\users\\hp\\miniconda3\\envs\\web-scrape\\lib\\site-packages (from pandas) (2.0.2)\n",
      "Requirement already satisfied: python-dateutil>=2.8.2 in c:\\users\\hp\\miniconda3\\envs\\web-scrape\\lib\\site-packages (from pandas) (2.9.0.post0)\n",
      "Requirement already satisfied: pytz>=2020.1 in c:\\users\\hp\\miniconda3\\envs\\web-scrape\\lib\\site-packages (from pandas) (2024.2)\n",
      "Requirement already satisfied: tzdata>=2022.7 in c:\\users\\hp\\miniconda3\\envs\\web-scrape\\lib\\site-packages (from pandas) (2025.1)\n",
      "Requirement already satisfied: six>=1.5 in c:\\users\\hp\\miniconda3\\envs\\web-scrape\\lib\\site-packages (from python-dateutil>=2.8.2->pandas) (1.16.0)\n"
     ]
    }
   ],
   "source": [
    "!pip install requests\n",
    "!pip install beautifulsoup4\n",
    "!pip install pandas"
   ]
  },
  {
   "cell_type": "code",
   "execution_count": 2,
   "id": "d511d269-1fe5-4859-87b0-9bd4cd297d18",
   "metadata": {},
   "outputs": [
    {
     "name": "stdout",
     "output_type": "stream",
     "text": [
      "Requirement already satisfied: requests in c:\\users\\hp\\miniconda3\\envs\\web-scrape\\lib\\site-packages (2.32.3)\n",
      "Requirement already satisfied: beautifulsoup4 in c:\\users\\hp\\miniconda3\\envs\\web-scrape\\lib\\site-packages (4.12.3)\n",
      "Requirement already satisfied: pandas in c:\\users\\hp\\miniconda3\\envs\\web-scrape\\lib\\site-packages (2.2.3)\n",
      "Requirement already satisfied: charset-normalizer<4,>=2 in c:\\users\\hp\\miniconda3\\envs\\web-scrape\\lib\\site-packages (from requests) (3.3.2)\n",
      "Requirement already satisfied: idna<4,>=2.5 in c:\\users\\hp\\miniconda3\\envs\\web-scrape\\lib\\site-packages (from requests) (3.7)\n",
      "Requirement already satisfied: urllib3<3,>=1.21.1 in c:\\users\\hp\\miniconda3\\envs\\web-scrape\\lib\\site-packages (from requests) (2.3.0)\n",
      "Requirement already satisfied: certifi>=2017.4.17 in c:\\users\\hp\\miniconda3\\envs\\web-scrape\\lib\\site-packages (from requests) (2024.12.14)\n",
      "Requirement already satisfied: soupsieve>1.2 in c:\\users\\hp\\miniconda3\\envs\\web-scrape\\lib\\site-packages (from beautifulsoup4) (2.5)\n",
      "Requirement already satisfied: numpy>=1.22.4 in c:\\users\\hp\\miniconda3\\envs\\web-scrape\\lib\\site-packages (from pandas) (2.0.2)\n",
      "Requirement already satisfied: python-dateutil>=2.8.2 in c:\\users\\hp\\miniconda3\\envs\\web-scrape\\lib\\site-packages (from pandas) (2.9.0.post0)\n",
      "Requirement already satisfied: pytz>=2020.1 in c:\\users\\hp\\miniconda3\\envs\\web-scrape\\lib\\site-packages (from pandas) (2024.2)\n",
      "Requirement already satisfied: tzdata>=2022.7 in c:\\users\\hp\\miniconda3\\envs\\web-scrape\\lib\\site-packages (from pandas) (2025.1)\n",
      "Requirement already satisfied: six>=1.5 in c:\\users\\hp\\miniconda3\\envs\\web-scrape\\lib\\site-packages (from python-dateutil>=2.8.2->pandas) (1.16.0)\n",
      "Note: you may need to restart the kernel to use updated packages.\n"
     ]
    }
   ],
   "source": [
    "pip install requests beautifulsoup4 pandas"
   ]
  },
  {
   "cell_type": "code",
   "execution_count": 12,
   "id": "c16dc113-b619-4330-b9bd-3d9ac59b032f",
   "metadata": {},
   "outputs": [
    {
     "name": "stdout",
     "output_type": "stream",
     "text": [
      "File downloaded successfully: RNGWHHDm.xls\n"
     ]
    }
   ],
   "source": [
    "import requests\n",
    "from bs4 import BeautifulSoup\n",
    "from urllib.parse import urljoin\n",
    "import os\n",
    "\n",
    "# URL of the page that contains the Excel file\n",
    "url = 'https://www.eia.gov/dnav/ng/hist/rngwhhdM.htm'\n",
    "\n",
    "# Send a request to fetch the page content\n",
    "response = requests.get(url)\n",
    "\n",
    "# Parse the page using BeautifulSoup\n",
    "soup = BeautifulSoup(response.content, 'html.parser')\n",
    "\n",
    "# Find all links on the page\n",
    "links = soup.find_all('a')\n",
    "\n",
    "# Look for the link to the Excel file by checking for the .xls or .xlsx extension\n",
    "excel_url = None\n",
    "for link in links:\n",
    "    href = link.get('href', '')\n",
    "    if href.endswith('.xls') or href.endswith('.xlsx'):\n",
    "        # Use urljoin to ensure the URL is complete\n",
    "        excel_url = urljoin(url, href)\n",
    "        break\n",
    "\n",
    "# Check if we found the Excel URL\n",
    "if excel_url:\n",
    "    try:\n",
    "        # Send a request to download the file\n",
    "        file_response = requests.get(excel_url)\n",
    "        file_response.raise_for_status()  # Raise an error if the request failed\n",
    "\n",
    "        # Set the filename\n",
    "        filename = os.path.basename(excel_url)\n",
    "\n",
    "        # Save the file locally\n",
    "        with open(filename, 'wb') as file:\n",
    "            file.write(file_response.content)\n",
    "        print(f\"File downloaded successfully: {filename}\")\n",
    "    except requests.exceptions.RequestException as e:\n",
    "        print(f\"An error occurred while downloading the file: {e}\")\n",
    "else:\n",
    "    print(\"Excel file not found on the page.\")"
   ]
  },
  {
   "cell_type": "code",
   "execution_count": 13,
   "id": "e9286b07-7d8c-4fea-8cb0-802039a91371",
   "metadata": {},
   "outputs": [
    {
     "name": "stdout",
     "output_type": "stream",
     "text": [
      "File is located at: C:\\Users\\hp\\RNGWHHDm.xls\n"
     ]
    }
   ],
   "source": [
    "import os\n",
    "\n",
    "# Get the current working directory\n",
    "current_directory = os.getcwd()\n",
    "\n",
    "# Print the full file path\n",
    "file_path = os.path.join(current_directory, 'RNGWHHDm.xls')\n",
    "print(f\"File is located at: {file_path}\")"
   ]
  },
  {
   "cell_type": "code",
   "execution_count": 18,
   "id": "ae55b8fb-3e54-4355-a640-78f6a77d01c0",
   "metadata": {},
   "outputs": [],
   "source": [
    "df = pd.read_excel(xls_file, sheet_name='Data 1')"
   ]
  },
  {
   "cell_type": "code",
   "execution_count": 22,
   "id": "f6eec318-5ec0-440e-946b-847d84cb367c",
   "metadata": {},
   "outputs": [
    {
     "name": "stdout",
     "output_type": "stream",
     "text": [
      "['Contents', 'Data 1']\n"
     ]
    }
   ],
   "source": [
    "import pandas as pd\n",
    "\n",
    "# Load the Excel file\n",
    "xls_file = r'C:\\Users\\hp\\Downloads\\RNGWHHDm.xls'\n",
    "\n",
    "# Get all sheet names\n",
    "xls = pd.ExcelFile(xls_file)\n",
    "print(xls.sheet_names)"
   ]
  },
  {
   "cell_type": "code",
   "execution_count": 25,
   "id": "32120ad8-629f-4639-9985-3ee00a2f084c",
   "metadata": {},
   "outputs": [
    {
     "name": "stdout",
     "output_type": "stream",
     "text": [
      "Columns: Index(['Sourcekey', 'RNGWHHD'], dtype='object')\n",
      "             Sourcekey                                            RNGWHHD\n",
      "0                 Date  Henry Hub Natural Gas Spot Price (Dollars per ...\n",
      "1  1997-01-15 00:00:00                                               3.45\n",
      "2  1997-02-15 00:00:00                                               2.15\n",
      "3  1997-03-15 00:00:00                                               1.89\n",
      "4  1997-04-15 00:00:00                                               2.03\n"
     ]
    }
   ],
   "source": [
    "import pandas as pd\n",
    "\n",
    "# Load the Excel file\n",
    "xls_file = r'C:\\Users\\hp\\Downloads\\RNGWHHDm.xls'\n",
    "\n",
    "# Load the 'Data 1' sheet, skipping the first row to get correct headers\n",
    "df = pd.read_excel(xls_file, sheet_name='Data 1', header=1)\n",
    "\n",
    "# Print the column names to understand the structure\n",
    "print(\"Columns:\", df.columns)\n",
    "\n",
    "# Check the first few rows of the data to understand its structure\n",
    "print(df.head())\n",
    "\n",
    "# Assuming columns with 'Date' and 'Price' are named differently, we can inspect the data more carefully."
   ]
  },
  {
   "cell_type": "code",
   "execution_count": 26,
   "id": "5f7251ee-804f-49f0-9a27-0482c24c0869",
   "metadata": {},
   "outputs": [
    {
     "name": "stdout",
     "output_type": "stream",
     "text": [
      "        Date Price\n",
      "0 1997-01-15  3.45\n",
      "1 1997-02-15  2.15\n",
      "2 1997-03-15  1.89\n",
      "3 1997-04-15  2.03\n",
      "4 1997-05-15  2.25\n"
     ]
    }
   ],
   "source": [
    "import pandas as pd\n",
    "\n",
    "# Load the Excel file\n",
    "xls_file = r'C:\\Users\\hp\\Downloads\\RNGWHHDm.xls'\n",
    "\n",
    "# Load the 'Data 1' sheet, treating the second row as the header\n",
    "df = pd.read_excel(xls_file, sheet_name='Data 1', header=1)\n",
    "\n",
    "# Rename columns for clarity\n",
    "df.columns = ['Date', 'Price']\n",
    "\n",
    "# Drop the first row, which seems to be metadata\n",
    "df = df.drop(0)\n",
    "\n",
    "# Convert 'Date' column to datetime format\n",
    "df['Date'] = pd.to_datetime(df['Date'], errors='coerce')\n",
    "\n",
    "# Remove rows where 'Date' is NaT\n",
    "df = df.dropna(subset=['Date'])\n",
    "\n",
    "# Reset the index\n",
    "df = df.reset_index(drop=True)\n",
    "\n",
    "# Check the cleaned data\n",
    "print(df.head())"
   ]
  },
  {
   "cell_type": "code",
   "execution_count": 43,
   "id": "25522a57-3135-4481-93b7-5383cbbeeb14",
   "metadata": {},
   "outputs": [
    {
     "name": "stdout",
     "output_type": "stream",
     "text": [
      "Data processed and saved to CSV files!\n"
     ]
    }
   ],
   "source": [
    "import pandas as pd\n",
    "\n",
    "# Step 1: Read the Excel file\n",
    "xls_file = r'C:\\Users\\hp\\Downloads\\RNGWHHDm.xls'\n",
    "df = pd.read_excel(xls_file, sheet_name='Data 1', header=1)  # Adjust sheet name if necessary\n",
    "\n",
    "# Step 2: Clean the data (make sure we only have Date and Price columns)\n",
    "# Assuming the data has columns 'Date' and 'Price' (you may need to adjust column names based on the actual data)\n",
    "df.columns = ['Date', 'Price']  # Keep only the 'Date' and 'Price' columns\n",
    "\n",
    "# Drop the first row, which seems to be metadata\n",
    "df = df.drop(0)\n",
    "\n",
    "# Convert 'Date' column to datetime format\n",
    "df['Date'] = pd.to_datetime(df['Date'], errors='coerce')\n",
    "\n",
    "# Remove rows where 'Date' is NaT\n",
    "df = df.dropna(subset=['Date'])\n",
    "\n",
    "# Reset the index\n",
    "df = df.reset_index(drop=True)\n",
    "\n",
    "# Step 3: Save daily data to a CSV file\n",
    "df_daily = df[['Date', 'Price']]  # Make sure the data only includes 'Date' and 'Price'\n",
    "df_daily.to_csv('daily_natural_gas_prices.csv', index=False)\n",
    "\n",
    "# Step 4: Generate monthly data (using the first date of each month)\n",
    "# Assuming the first date of the month should be used for monthly data\n",
    "df_monthly = df_daily.resample('ME', on='Date').first()\n",
    "\n",
    "# Reset the index to get 'Date' as a column again\n",
    "df_monthly = df_monthly.reset_index()\n",
    "\n",
    "# Format the Date as 'Month Year' (e.g., 'January 1997')\n",
    "df_monthly['Date'] = df_monthly['Date'].dt.strftime('%B %Y')\n",
    "\n",
    "# Only keep 'Date' and 'Price' columns\n",
    "df_monthly = df_monthly[['Date', 'Price']]\n",
    "\n",
    "# Step 5: Save monthly data to a CSV file\n",
    "df_monthly.to_csv('monthly_natural_gas_prices.csv', index=False)\n",
    "\n",
    "print(\"Data processed and saved to CSV files!\")"
   ]
  },
  {
   "cell_type": "code",
   "execution_count": 44,
   "id": "d4c9c46f-d233-405c-88d7-47b418082c43",
   "metadata": {},
   "outputs": [
    {
     "name": "stdout",
     "output_type": "stream",
     "text": [
      "          Date Price\n",
      "0   1997-01-15  3.45\n",
      "1   1997-02-15  2.15\n",
      "2   1997-03-15  1.89\n",
      "3   1997-04-15  2.03\n",
      "4   1997-05-15  2.25\n",
      "..         ...   ...\n",
      "331 2024-08-15  1.99\n",
      "332 2024-09-15  2.28\n",
      "333 2024-10-15   2.2\n",
      "334 2024-11-15  2.12\n",
      "335 2024-12-15  3.01\n",
      "\n",
      "[336 rows x 2 columns]\n"
     ]
    }
   ],
   "source": [
    "print(df_daily)"
   ]
  },
  {
   "cell_type": "code",
   "execution_count": 45,
   "id": "041dcbf5-3080-4d15-a0ec-0e6f87a9742f",
   "metadata": {},
   "outputs": [
    {
     "name": "stdout",
     "output_type": "stream",
     "text": [
      "               Date Price\n",
      "0      January 1997  3.45\n",
      "1     February 1997  2.15\n",
      "2        March 1997  1.89\n",
      "3        April 1997  2.03\n",
      "4          May 1997  2.25\n",
      "..              ...   ...\n",
      "331     August 2024  1.99\n",
      "332  September 2024  2.28\n",
      "333    October 2024   2.2\n",
      "334   November 2024  2.12\n",
      "335   December 2024  3.01\n",
      "\n",
      "[336 rows x 2 columns]\n"
     ]
    }
   ],
   "source": [
    "print(df_monthly)"
   ]
  },
  {
   "cell_type": "code",
   "execution_count": 2,
   "id": "a4abd54f-f8b2-4935-bcbf-4f02b96db1b3",
   "metadata": {},
   "outputs": [
    {
     "name": "stderr",
     "output_type": "stream",
     "text": [
      "C:\\Users\\hp\\AppData\\Local\\Temp\\ipykernel_2260\\195402953.py:12: UserWarning: Could not infer format, so each element will be parsed individually, falling back to `dateutil`. To ensure parsing is consistent and as-expected, please specify a format.\n",
      "  df['Date'] = pd.to_datetime(df['Date'])\n"
     ]
    },
    {
     "data": {
      "image/png": "[encoded data removed]",
      "text/plain": [
       "<Figure size 1000x600 with 1 Axes>"
      ]
     },
     "metadata": {},
     "output_type": "display_data"
    }
   ],
   "source": [
    "#Visualization\n",
    "import matplotlib.pyplot as plt\n",
    "import pandas as pd\n",
    "\n",
    "# Load data\n",
    "df = pd.read_csv('monthly_natural_gas_prices.csv')\n",
    "\n",
    "# Convert DataFrame to JSON and save it as a file\n",
    "df.to_json('natural_gas_prices.json', orient='records', lines=True)\n",
    "\n",
    "# Convert 'Date' to datetime\n",
    "df['Date'] = pd.to_datetime(df['Date'])\n",
    "\n",
    "# Create the line plot\n",
    "plt.figure(figsize=(10,6))\n",
    "plt.plot(df['Date'], df['Price'], marker='o', color='b', label='Price')\n",
    "plt.title('Monthly Natural Gas Prices')\n",
    "plt.xlabel('Date')\n",
    "plt.ylabel('Price (USD)')\n",
    "plt.grid(True)\n",
    "plt.legend()\n",
    "plt.xticks(rotation=45)\n",
    "plt.tight_layout()\n",
    "plt.show()"
   ]
  },
  {
   "cell_type": "code",
   "execution_count": 4,
   "id": "e439c0d9-de7b-4e64-bf55-19e6e528b5b4",
   "metadata": {},
   "outputs": [
    {
     "name": "stderr",
     "output_type": "stream",
     "text": [
      "C:\\Users\\hp\\AppData\\Local\\Temp\\ipykernel_2260\\553795831.py:7: UserWarning: Could not infer format, so each element will be parsed individually, falling back to `dateutil`. To ensure parsing is consistent and as-expected, please specify a format.\n",
      "  df['Date'] = pd.to_datetime(df['Date'])\n"
     ]
    }
   ],
   "source": [
    "import pandas as pd\n",
    "\n",
    "# Load your CSV file\n",
    "df = pd.read_csv('monthly_natural_gas_prices.csv')\n",
    "\n",
    "# Convert 'Date' to datetime\n",
    "df['Date'] = pd.to_datetime(df['Date'])\n",
    "\n",
    "# Save the DataFrame to a JSON file\n",
    "df.to_json('natural_gas_prices.json', orient='records', lines=True)"
   ]
  },
  {
   "cell_type": "code",
   "execution_count": 5,
   "id": "dec7b39a-6694-438e-b9a2-21bfc75531e5",
   "metadata": {},
   "outputs": [
    {
     "ename": "SyntaxError",
     "evalue": "invalid syntax (3149674602.py, line 1)",
     "output_type": "error",
     "traceback": [
      "\u001b[1;36m  Cell \u001b[1;32mIn[5], line 1\u001b[1;36m\u001b[0m\n\u001b[1;33m    <!DOCTYPE html>\u001b[0m\n\u001b[1;37m    ^\u001b[0m\n\u001b[1;31mSyntaxError\u001b[0m\u001b[1;31m:\u001b[0m invalid syntax\n"
     ]
    }
   ],
   "source": [
    "<!DOCTYPE html>\n",
    "<html lang=\"en\">\n",
    "<head>\n",
    "    <meta charset=\"UTF-8\">\n",
    "    <meta name=\"viewport\" content=\"width=device-width, initial-scale=1.0\">\n",
    "    <title>Natural Gas Prices Visualization</title>\n",
    "    <!-- Include Vega and Vega-Lite libraries -->\n",
    "    <script src=\"https://cdn.jsdelivr.net/npm/vega@5.21.0\"></script>\n",
    "    <script src=\"https://cdn.jsdelivr.net/npm/vega-lite@5.0.1\"></script>\n",
    "    <script src=\"https://cdn.jsdelivr.net/npm/vega-embed@6.15.0\"></script>\n",
    "</head>\n",
    "<body>\n",
    "    <h1>Natural Gas Prices Visualization</h1>\n",
    "    <div id=\"vis\"></div>\n",
    "    \n",
    "    <script type=\"text/javascript\">\n",
    "        // Make sure the JSON file path is correct here\n",
    "        var yourData = 'natural_gas_prices.json';  // Path to your JSON file\n",
    "        \n",
    "        vegaEmbed('#vis', {\n",
    "            \"$schema\": \"https://vega.github.io/schema/vega-lite/v5.json\",\n",
    "            \"data\": {\n",
    "                \"url\": yourData\n",
    "            },\n",
    "            \"mark\": \"line\",\n",
    "            \"encoding\": {\n",
    "                \"x\": {\n",
    "                    \"field\": \"Date\",\n",
    "                    \"type\": \"temporal\",\n",
    "                    \"title\": \"Date\"\n",
    "                },\n",
    "                \"y\": {\n",
    "                    \"field\": \"Price\",\n",
    "                    \"type\": \"quantitative\",\n",
    "                    \"title\": \"Price (USD)\"\n",
    "                }\n",
    "            },\n",
    "            \"title\": \"Monthly Natural Gas Prices\"\n",
    "        }).catch(console.error);\n",
    "    </script>\n",
    "</body>\n",
    "</html>"
   ]
  },
  {
   "cell_type": "code",
   "execution_count": 56,
   "id": "d6c7bb2b-408c-4422-8c3d-97ea8976f74e",
   "metadata": {},
   "outputs": [
    {
     "name": "stdout",
     "output_type": "stream",
     "text": [
      "Name: datapackage\n",
      "Version: 1.15.4\n",
      "Summary: Utilities to work with Data Packages as defined on specs.frictionlessdata.io\n",
      "Home-page: https://github.com/frictionlessdata/datapackage-py\n",
      "Author: Open Knowledge Foundation\n",
      "Author-email: info@okfn.org\n",
      "License: MIT\n",
      "Location: c:\\users\\hp\\miniconda3\\envs\\web-scrape\\lib\\site-packages\n",
      "Requires: chardet, click, dataflows-tabulator, jsonpointer, jsonschema, requests, six, tableschema, unicodecsv\n",
      "Required-by: \n"
     ]
    }
   ],
   "source": [
    "!pip show datapackage"
   ]
  },
  {
   "cell_type": "code",
   "execution_count": 63,
   "id": "2e8cfe99-0103-47fe-8a74-f09a511c83fe",
   "metadata": {},
   "outputs": [
    {
     "data": {
      "text/plain": [
       "{'profile': 'tabular-data-package',\n",
       " 'name': 'natural-gas-prices',\n",
       " 'title': 'Natural Gas Prices Data',\n",
       " 'version': '1.0.0',\n",
       " 'resources': [{'name': 'daily-prices',\n",
       "   'path': 'daily_natural_gas_prices.csv',\n",
       "   'format': 'csv',\n",
       "   'schema': {'fields': [{'name': 'Date', 'type': 'date'},\n",
       "     {'name': 'Price', 'type': 'number'}]}},\n",
       "  {'name': 'monthly-prices',\n",
       "   'path': 'monthly_natural_gas_prices.csv',\n",
       "   'format': 'csv',\n",
       "   'schema': {'fields': [{'name': 'Date', 'type': 'date'},\n",
       "     {'name': 'Price', 'type': 'number'}]}}]}"
      ]
     },
     "execution_count": 63,
     "metadata": {},
     "output_type": "execute_result"
    }
   ],
   "source": [
    "{\n",
    "  \"profile\": \"tabular-data-package\",\n",
    "  \"name\": \"natural-gas-prices\",\n",
    "  \"title\": \"Natural Gas Prices Data\",\n",
    "  \"version\": \"1.0.0\",\n",
    "  \"resources\": [\n",
    "    {\n",
    "      \"name\": \"daily-prices\",\n",
    "      \"path\": \"daily_natural_gas_prices.csv\",\n",
    "      \"format\": \"csv\",\n",
    "      \"schema\": {\n",
    "        \"fields\": [\n",
    "          { \"name\": \"Date\", \"type\": \"date\" },\n",
    "          { \"name\": \"Price\", \"type\": \"number\" }\n",
    "        ]\n",
    "      }\n",
    "    },\n",
    "    {\n",
    "      \"name\": \"monthly-prices\",\n",
    "      \"path\": \"monthly_natural_gas_prices.csv\",\n",
    "      \"format\": \"csv\",\n",
    "      \"schema\": {\n",
    "        \"fields\": [\n",
    "          { \"name\": \"Date\", \"type\": \"date\" },\n",
    "          { \"name\": \"Price\", \"type\": \"number\" }\n",
    "        ]\n",
    "      }\n",
    "    }\n",
    "  ]\n",
    "}"
   ]
  },
  {
   "cell_type": "code",
   "execution_count": 64,
   "id": "74598380-53a9-42f7-b29b-6a56e8c4fa91",
   "metadata": {},
   "outputs": [
    {
     "data": {
      "text/plain": [
       "True"
      ]
     },
     "execution_count": 64,
     "metadata": {},
     "output_type": "execute_result"
    }
   ],
   "source": [
    "from datapackage import Package\n",
    "\n",
    "# Define the metadata for the data package\n",
    "package = Package({\n",
    "    'profile': 'tabular-data-package',\n",
    "    'name': 'natural-gas-prices',\n",
    "    'title': 'Natural Gas Prices Data',\n",
    "    'version': '1.0.0',\n",
    "    'resources': [\n",
    "        {\n",
    "            'name': 'daily-prices',\n",
    "            'path': 'daily_natural_gas_prices.csv',\n",
    "            'format': 'csv',\n",
    "            'schema': {\n",
    "                'fields': [\n",
    "                    { 'name': 'Date', 'type': 'date' },\n",
    "                    { 'name': 'Price', 'type': 'number' }\n",
    "                ]\n",
    "            }\n",
    "        },\n",
    "        {\n",
    "            'name': 'monthly-prices',\n",
    "            'path': 'monthly_natural_gas_prices.csv',\n",
    "            'format': 'csv',\n",
    "            'schema': {\n",
    "                'fields': [\n",
    "                    { 'name': 'Date', 'type': 'date' },\n",
    "                    { 'name': 'Price', 'type': 'number' }\n",
    "                ]\n",
    "            }\n",
    "        }\n",
    "    ]\n",
    "})\n",
    "\n",
    "# Save the datapackage.json file\n",
    "package.save('datapackage.json')"
   ]
  },
  {
   "cell_type": "code",
   "execution_count": 65,
   "id": "164030d4-f286-4fef-bdd5-ebbf7155077b",
   "metadata": {},
   "outputs": [
    {
     "name": "stdout",
     "output_type": "stream",
     "text": [
      "c:\\users\\hp\\miniconda3\\envs\\web-scrape\\lib\\site-packages\n"
     ]
    }
   ],
   "source": [
    "import os\n",
    "print(os.getcwd())"
   ]
  },
  {
   "cell_type": "code",
   "execution_count": null,
   "id": "960c383e-ff18-49bf-ad6f-42aa29b3941e",
   "metadata": {},
   "outputs": [],
   "source": []
  }
 ],
 "metadata": {
  "kernelspec": {
   "display_name": "Python 3 (ipykernel)",
   "language": "python",
   "name": "python3"
  },
  "language_info": {
   "codemirror_mode": {
    "name": "ipython",
    "version": 3
   },
   "file_extension": ".py",
   "mimetype": "text/x-python",
   "name": "python",
   "nbconvert_exporter": "python",
   "pygments_lexer": "ipython3",
   "version": "3.9.21"
  }
 },
 "nbformat": 4,
 "nbformat_minor": 5
}
